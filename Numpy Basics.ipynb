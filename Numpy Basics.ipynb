{
  "cells": [
    {
      "cell_type": "code",
      "execution_count": null,
      "metadata": {
        "colab": {
          "base_uri": "https://localhost:8080/"
        },
        "id": "NyN3hR95NXV3",
        "outputId": "e6666ff8-a5c8-451b-cd20-22e5658628cf"
      },
      "outputs": [
        {
          "data": {
            "text/plain": [
              "array([[0, 1, 2],\n",
              "       [3, 4, 5],\n",
              "       [6, 7, 8]])"
            ]
          },
          "execution_count": 24,
          "metadata": {},
          "output_type": "execute_result"
        }
      ],
      "source": [
        "import numpy as np\n",
        "arr = np.arange(9).reshape(3,3)\n",
        "\n",
        "arr"
      ]
    },
    {
      "cell_type": "code",
      "execution_count": null,
      "metadata": {
        "colab": {
          "base_uri": "https://localhost:8080/"
        },
        "id": "ijx77fOVNjK1",
        "outputId": "0bce2582-514b-445e-e61a-915eae97b8c9"
      },
      "outputs": [
        {
          "data": {
            "text/plain": [
              "array([ 9, 12, 15])"
            ]
          },
          "execution_count": 25,
          "metadata": {},
          "output_type": "execute_result"
        }
      ],
      "source": [
        "np.sum(arr,axis=0)"
      ]
    },
    {
      "cell_type": "code",
      "execution_count": null,
      "metadata": {
        "colab": {
          "base_uri": "https://localhost:8080/"
        },
        "id": "rTL7mRC47PQ1",
        "outputId": "e02da8d5-3892-4348-af40-668407b2d8d6"
      },
      "outputs": [
        {
          "name": "stdout",
          "output_type": "stream",
          "text": [
            "Votes (Array): [ 775  787  918   88  166  286 2556  324  504  402]\n",
            "Costs (Array): [\"'800.0'\" \"'800.0'\" \"'800.0'\" \"'300.0'\" \"'600.0'\" \"'600.0'\" \"'600.0'\"\n",
            " \"'700.0'\" \"'550.0'\" \"'500.0'\"]\n",
            "Ratings (Array): [4.1 3.8 4.  2.6 1.1 3.5 4.7 2.5 2.8 3.4]\n"
          ]
        }
      ],
      "source": [
        "import numpy as np\n",
        "\n",
        "# Extracting numeric data as NumPy arrays for future analysis\n",
        "votes = np.array([ 775,  787,  918,   88,  166,  286, 2556,  324,  504,  402])\n",
        "costs = np.array([\"'800.0'\" ,\"'800.0'\", \"'800.0'\", \"'300.0'\", \"'600.0'\", \"'600.0'\", \"'600.0'\", \"'700.0'\" ,\"'550.0'\", \"'500.0'\"])\n",
        "rate = np.array([4.1, 3.8, 4.0, 2.6, 1.1, 3.5, 4.7, 2.5, 2.8, 3.4])\n",
        "\n",
        "print(\"Votes (Array):\", votes)\n",
        "print(\"Costs (Array):\", costs)\n",
        "print(\"Ratings (Array):\", rate)"
      ]
    },
    {
      "cell_type": "markdown",
      "metadata": {
        "id": "Nv4ulzgX7VDu"
      },
      "source": [
        "1. Sorting a 1D Array 🗂️\n",
        "We’ll sort a simple 1D array using:\n",
        "\n",
        "np.sort(): Returns a sorted copy.<Br>\n",
        "np.argsort(): Returns indices that would sort the array."
      ]
    },
    {
      "cell_type": "code",
      "execution_count": null,
      "metadata": {
        "colab": {
          "base_uri": "https://localhost:8080/"
        },
        "id": "QDj27g_s7jAg",
        "outputId": "f4797015-ac6e-4986-f49b-240f16e3344a"
      },
      "outputs": [
        {
          "data": {
            "text/plain": [
              "array([ 775,  787,  918,   88,  166,  286, 2556,  324,  504,  402])"
            ]
          },
          "execution_count": 32,
          "metadata": {},
          "output_type": "execute_result"
        }
      ],
      "source": [
        "votes"
      ]
    },
    {
      "cell_type": "code",
      "execution_count": null,
      "metadata": {
        "colab": {
          "base_uri": "https://localhost:8080/"
        },
        "id": "V61sjzLX7Wne",
        "outputId": "cbc9b442-30ca-4dc7-dc88-21b3b5904be6"
      },
      "outputs": [
        {
          "name": "stdout",
          "output_type": "stream",
          "text": [
            "Sorted Votes: [  88  166  286  324  402  504  775  787  918 2556]\n"
          ]
        }
      ],
      "source": [
        "sorted_votes = np.sort(votes)       # Sort the votes\n",
        "print(\"Sorted Votes:\", sorted_votes)"
      ]
    },
    {
      "cell_type": "code",
      "execution_count": null,
      "metadata": {
        "id": "7Ad4vRC4O9EL"
      },
      "outputs": [],
      "source": []
    },
    {
      "cell_type": "code",
      "execution_count": null,
      "metadata": {
        "id": "57BQ81SGO-Cp"
      },
      "outputs": [],
      "source": []
    },
    {
      "cell_type": "code",
      "execution_count": null,
      "metadata": {
        "id": "XThh1FXIO-OR"
      },
      "outputs": [],
      "source": []
    },
    {
      "cell_type": "code",
      "execution_count": null,
      "metadata": {
        "colab": {
          "base_uri": "https://localhost:8080/"
        },
        "id": "r3reEaqx722v",
        "outputId": "f4e5533c-f8d9-4fbc-9d8b-1474930e0dbd"
      },
      "outputs": [
        {
          "data": {
            "text/plain": [
              "array([ 775,  787,  918,   88,  166,  286, 2556,  324,  504,  402])"
            ]
          },
          "execution_count": 34,
          "metadata": {},
          "output_type": "execute_result"
        }
      ],
      "source": [
        "votes"
      ]
    },
    {
      "cell_type": "code",
      "execution_count": null,
      "metadata": {
        "colab": {
          "base_uri": "https://localhost:8080/"
        },
        "id": "2juanqdKO_Il",
        "outputId": "20468f21-3c6f-46a8-c2b2-c3b802f0471d"
      },
      "outputs": [
        {
          "data": {
            "text/plain": [
              "array([775, 918,  88])"
            ]
          },
          "execution_count": 35,
          "metadata": {},
          "output_type": "execute_result"
        }
      ],
      "source": [
        "votes[[0,2,3]]"
      ]
    },
    {
      "cell_type": "code",
      "execution_count": null,
      "metadata": {
        "colab": {
          "base_uri": "https://localhost:8080/"
        },
        "id": "3daNVHRy7dUc",
        "outputId": "a9f903a2-b72f-40d9-d879-8e6e8522946b"
      },
      "outputs": [
        {
          "name": "stdout",
          "output_type": "stream",
          "text": [
            "Indices for Sorting: [3 4 5 7 9 8 0 1 2 6]\n"
          ]
        }
      ],
      "source": [
        "sorted_indices = np.argsort(votes)  # Indices that would sort the votes\n",
        "print(\"Indices for Sorting:\", sorted_indices)"
      ]
    },
    {
      "cell_type": "code",
      "execution_count": null,
      "metadata": {
        "colab": {
          "base_uri": "https://localhost:8080/"
        },
        "id": "cok1jz1-7n5d",
        "outputId": "00cf2bf1-8df4-4437-ab98-9526061ba2b6"
      },
      "outputs": [
        {
          "data": {
            "text/plain": [
              "array([  88,  166,  286,  324,  402,  504,  775,  787,  918, 2556])"
            ]
          },
          "execution_count": 37,
          "metadata": {},
          "output_type": "execute_result"
        }
      ],
      "source": [
        "votes[np.argsort(votes)]"
      ]
    },
    {
      "cell_type": "code",
      "execution_count": null,
      "metadata": {
        "colab": {
          "base_uri": "https://localhost:8080/"
        },
        "id": "V_Y8bDJPPzGI",
        "outputId": "ab65f314-c767-46a2-9b93-28d9ba2d58a9"
      },
      "outputs": [
        {
          "data": {
            "text/plain": [
              "array([2556,  918,  787,  775,  504,  402,  324,  286,  166,   88])"
            ]
          },
          "execution_count": 38,
          "metadata": {},
          "output_type": "execute_result"
        }
      ],
      "source": [
        "votes[np.argsort(votes)][::-1] #doubts"
      ]
    },
    {
      "cell_type": "markdown",
      "metadata": {
        "id": "kRoQnHZ08ZCp"
      },
      "source": [
        "# 2D array"
      ]
    },
    {
      "cell_type": "code",
      "execution_count": null,
      "metadata": {
        "id": "Ft6RcMvC8bKK"
      },
      "outputs": [],
      "source": [
        "# Example 2D array\n",
        "array_2d = np.array([[34, 11, 8],\n",
        "                     [7, 45, 18],\n",
        "                     [9, 23, 20]])"
      ]
    },
    {
      "cell_type": "code",
      "execution_count": null,
      "metadata": {
        "colab": {
          "base_uri": "https://localhost:8080/"
        },
        "id": "x19QqMVb8cbU",
        "outputId": "b0c85fc0-4b03-4b86-c894-71dbc18e29e1"
      },
      "outputs": [
        {
          "data": {
            "text/plain": [
              "array([[ 7, 11,  8],\n",
              "       [ 9, 23, 18],\n",
              "       [34, 45, 20]])"
            ]
          },
          "execution_count": 7,
          "metadata": {},
          "output_type": "execute_result"
        }
      ],
      "source": [
        "np.sort(array_2d, axis=0)"
      ]
    },
    {
      "cell_type": "code",
      "execution_count": null,
      "metadata": {
        "colab": {
          "base_uri": "https://localhost:8080/"
        },
        "id": "mGdWDo1J9s_A",
        "outputId": "ac615411-5113-4e23-bd79-5942183da803"
      },
      "outputs": [
        {
          "data": {
            "text/plain": [
              "array([[ 8, 11, 34],\n",
              "       [ 7, 18, 45],\n",
              "       [ 9, 20, 23]])"
            ]
          },
          "execution_count": 8,
          "metadata": {},
          "output_type": "execute_result"
        }
      ],
      "source": [
        "np.sort(array_2d, axis=1)"
      ]
    },
    {
      "cell_type": "markdown",
      "metadata": {
        "id": "yz0v40ly9zMS"
      },
      "source": []
    },
    {
      "cell_type": "markdown",
      "metadata": {
        "id": "LgBluoUt9zVk"
      },
      "source": [
        "# Matrix Multiplication in NumPy"
      ]
    },
    {
      "cell_type": "code",
      "execution_count": null,
      "metadata": {
        "id": "Bzv5kzJ4TbPK"
      },
      "outputs": [],
      "source": [
        "np.set_printoptions(suppress=False, precision=1)\n"
      ]
    },
    {
      "cell_type": "code",
      "execution_count": null,
      "metadata": {
        "colab": {
          "base_uri": "https://localhost:8080/"
        },
        "id": "NVgKqJHH-Auc",
        "outputId": "d417d60c-c68a-49e2-d98a-708f7591f357"
      },
      "outputs": [
        {
          "data": {
            "text/plain": [
              "array([[4.1e+00, 7.8e+02, 8.0e+02],\n",
              "       [3.8e+00, 7.9e+02, 8.0e+02],\n",
              "       [4.0e+00, 9.2e+02, 8.0e+02],\n",
              "       [2.6e+00, 8.8e+01, 3.0e+02],\n",
              "       [1.1e+00, 1.7e+02, 6.0e+02],\n",
              "       [3.5e+00, 2.9e+02, 6.0e+02],\n",
              "       [4.7e+00, 2.6e+03, 6.0e+02],\n",
              "       [2.5e+00, 3.2e+02, 7.0e+02],\n",
              "       [2.8e+00, 5.0e+02, 5.5e+02],\n",
              "       [3.4e+00, 4.0e+02, 5.0e+02]])"
            ]
          },
          "execution_count": 41,
          "metadata": {},
          "output_type": "execute_result"
        }
      ],
      "source": [
        "# Your numeric_data array\n",
        "numeric_data = np.array([\n",
        "    [4.1, 775.0, 800.0],\n",
        "    [3.8, 787.0, 800.0],\n",
        "    [4.0, 918.0, 800.0],\n",
        "    [2.6, 88.0, 300.0],\n",
        "    [1.1, 166.0, 600.0],\n",
        "    [3.5, 286.0, 600.0],\n",
        "    [4.7, 2556.0, 600.0],\n",
        "    [2.5, 324.0, 700.0],\n",
        "    [2.8, 504.0, 550.0],\n",
        "    [3.4, 402.0, 500.0]\n",
        "])\n",
        "numeric_data"
      ]
    },
    {
      "cell_type": "code",
      "execution_count": null,
      "metadata": {
        "id": "cU8vRKYx-aKB"
      },
      "outputs": [],
      "source": [
        "np.set_printoptions(suppress=True, precision=1)\n"
      ]
    },
    {
      "cell_type": "code",
      "execution_count": null,
      "metadata": {
        "colab": {
          "base_uri": "https://localhost:8080/"
        },
        "id": "oy1UfnO9-bjh",
        "outputId": "51b1961c-9690-4641-e1d9-b3d83bf46cd2"
      },
      "outputs": [
        {
          "data": {
            "text/plain": [
              "array([[   4.1,  775. ,  800. ],\n",
              "       [   3.8,  787. ,  800. ],\n",
              "       [   4. ,  918. ,  800. ],\n",
              "       [   2.6,   88. ,  300. ],\n",
              "       [   1.1,  166. ,  600. ],\n",
              "       [   3.5,  286. ,  600. ],\n",
              "       [   4.7, 2556. ,  600. ],\n",
              "       [   2.5,  324. ,  700. ],\n",
              "       [   2.8,  504. ,  550. ],\n",
              "       [   3.4,  402. ,  500. ]])"
            ]
          },
          "execution_count": 43,
          "metadata": {},
          "output_type": "execute_result"
        }
      ],
      "source": [
        "numeric_data"
      ]
    },
    {
      "cell_type": "code",
      "execution_count": null,
      "metadata": {
        "colab": {
          "base_uri": "https://localhost:8080/"
        },
        "id": "B34cASOZ90i3",
        "outputId": "b21d5548-d1ff-4ed7-d74c-a7bca317de36"
      },
      "outputs": [
        {
          "data": {
            "text/plain": [
              "array([ 775.,  787.,  918.,   88.,  166.,  286., 2556.,  324.,  504.,\n",
              "        402.])"
            ]
          },
          "execution_count": 12,
          "metadata": {},
          "output_type": "execute_result"
        }
      ],
      "source": [
        "votes = numeric_data[:, 1]  # Extract 'votes'\n",
        "votes"
      ]
    },
    {
      "cell_type": "code",
      "execution_count": null,
      "metadata": {
        "colab": {
          "base_uri": "https://localhost:8080/"
        },
        "id": "_kok-wHO-iR4",
        "outputId": "ad9ad0a0-ac36-4c35-c017-abb8a4765382"
      },
      "outputs": [
        {
          "data": {
            "text/plain": [
              "array([4.1, 3.8, 4. , 2.6, 1.1, 3.5, 4.7, 2.5, 2.8, 3.4])"
            ]
          },
          "execution_count": 14,
          "metadata": {},
          "output_type": "execute_result"
        }
      ],
      "source": [
        "ratings = numeric_data[:, 0]  # Extract 'rate' column\n",
        "ratings"
      ]
    },
    {
      "cell_type": "code",
      "execution_count": null,
      "metadata": {
        "colab": {
          "base_uri": "https://localhost:8080/"
        },
        "id": "cgUxr5Lg-n7S",
        "outputId": "57888a6e-1323-447e-bebf-f16b4f015901"
      },
      "outputs": [
        {
          "data": {
            "text/plain": [
              "array([ 3177.5,  2990.6,  3672. ,   228.8,   182.6,  1001. , 12013.2,\n",
              "         810. ,  1411.2,  1366.8])"
            ]
          },
          "execution_count": 15,
          "metadata": {},
          "output_type": "execute_result"
        }
      ],
      "source": [
        "weighted_scores = votes * ratings\n",
        "weighted_scores"
      ]
    },
    {
      "cell_type": "markdown",
      "metadata": {
        "id": "SA2X412v-w5B"
      },
      "source": [
        "Takeaway:\n",
        "\n",
        "Array * Number  →  WORKS\n",
        "Array * Array (same shape)  →  WORKS\n",
        "Array * Array (different shape)  →  DOES NOT WORK"
      ]
    },
    {
      "cell_type": "code",
      "execution_count": null,
      "metadata": {
        "colab": {
          "base_uri": "https://localhost:8080/"
        },
        "id": "R5ypg7QX-n99",
        "outputId": "3e484617-97f4-4260-8bd4-b1c56b65d6ca"
      },
      "outputs": [
        {
          "data": {
            "text/plain": [
              "array([[0, 1, 2],\n",
              "       [3, 4, 5],\n",
              "       [6, 7, 8]])"
            ]
          },
          "execution_count": 44,
          "metadata": {},
          "output_type": "execute_result"
        }
      ],
      "source": [
        "arr"
      ]
    },
    {
      "cell_type": "code",
      "execution_count": null,
      "metadata": {
        "colab": {
          "base_uri": "https://localhost:8080/"
        },
        "id": "-DilMsGsWKH9",
        "outputId": "9642a8fd-81bc-4d16-ff4d-39e348983d31"
      },
      "outputs": [
        {
          "data": {
            "text/plain": [
              "array([[0, 1, 2],\n",
              "       [3, 4, 5],\n",
              "       [6, 7, 8]])"
            ]
          },
          "execution_count": 45,
          "metadata": {},
          "output_type": "execute_result"
        }
      ],
      "source": [
        "arr"
      ]
    },
    {
      "cell_type": "code",
      "execution_count": null,
      "metadata": {
        "colab": {
          "base_uri": "https://localhost:8080/"
        },
        "id": "TcbYgkBOWMEI",
        "outputId": "099165e3-861e-4185-8bcf-cf38fcb56cf0"
      },
      "outputs": [
        {
          "data": {
            "text/plain": [
              "array([[ 0,  1,  4],\n",
              "       [ 9, 16, 25],\n",
              "       [36, 49, 64]])"
            ]
          },
          "execution_count": 46,
          "metadata": {},
          "output_type": "execute_result"
        }
      ],
      "source": [
        "arr*arr #eleemnt wise mult"
      ]
    },
    {
      "cell_type": "markdown",
      "metadata": {
        "id": "JXdfMe3U-1CF"
      },
      "source": [
        "# . Matrix Multiplication 📐\n",
        " -- np.dot()\n",
        " -- np.matmul()\n",
        " -- @ operator."
      ]
    },
    {
      "cell_type": "code",
      "execution_count": null,
      "metadata": {
        "colab": {
          "base_uri": "https://localhost:8080/"
        },
        "id": "RwC-oeAd-oAw",
        "outputId": "08b1c88a-98fc-4cde-8448-a92df4352d45"
      },
      "outputs": [
        {
          "data": {
            "text/plain": [
              "array([[   4.1,  775. ,  800. ],\n",
              "       [   3.8,  787. ,  800. ],\n",
              "       [   4. ,  918. ,  800. ],\n",
              "       [   2.6,   88. ,  300. ],\n",
              "       [   1.1,  166. ,  600. ],\n",
              "       [   3.5,  286. ,  600. ],\n",
              "       [   4.7, 2556. ,  600. ],\n",
              "       [   2.5,  324. ,  700. ],\n",
              "       [   2.8,  504. ,  550. ],\n",
              "       [   3.4,  402. ,  500. ]])"
            ]
          },
          "execution_count": 47,
          "metadata": {},
          "output_type": "execute_result"
        }
      ],
      "source": [
        "numeric_data"
      ]
    },
    {
      "cell_type": "code",
      "execution_count": null,
      "metadata": {
        "colab": {
          "base_uri": "https://localhost:8080/"
        },
        "id": "I0-YgCzBWv6C",
        "outputId": "6f5f2542-3cb6-4b6d-cc7a-b35d479a3de6"
      },
      "outputs": [
        {
          "data": {
            "text/plain": [
              "(10, 3)"
            ]
          },
          "execution_count": 48,
          "metadata": {},
          "output_type": "execute_result"
        }
      ],
      "source": [
        "numeric_data.shape"
      ]
    },
    {
      "cell_type": "code",
      "execution_count": null,
      "metadata": {
        "colab": {
          "base_uri": "https://localhost:8080/"
        },
        "id": "bTW0OSeTW0JK",
        "outputId": "de04a2cf-6cfd-40dc-e8a8-1e805cceb19f"
      },
      "outputs": [
        {
          "data": {
            "text/plain": [
              "array([[1.2, 0.8, 0.5],\n",
              "       [0.5, 1.5, 1. ],\n",
              "       [0.7, 0.6, 1.8]])"
            ]
          },
          "execution_count": 50,
          "metadata": {},
          "output_type": "execute_result"
        }
      ],
      "source": [
        "# Create a random transformation matrix\n",
        "transformation_matrix = np.array([[1.2, 0.8, 0.5],\n",
        "                                   [0.5, 1.5, 1.0],\n",
        "                                   [0.7, 0.6, 1.8]])\n",
        "transformation_matrix"
      ]
    },
    {
      "cell_type": "code",
      "execution_count": null,
      "metadata": {
        "colab": {
          "base_uri": "https://localhost:8080/"
        },
        "id": "OIUw2XDxW2o1",
        "outputId": "e80ef9d5-5941-4a8a-aafa-c61de9883ae5"
      },
      "outputs": [
        {
          "data": {
            "text/plain": [
              "(3, 3)"
            ]
          },
          "execution_count": 51,
          "metadata": {},
          "output_type": "execute_result"
        }
      ],
      "source": [
        "transformation_matrix.shape"
      ]
    },
    {
      "cell_type": "code",
      "execution_count": null,
      "metadata": {
        "colab": {
          "base_uri": "https://localhost:8080/"
        },
        "id": "b8f56np4-oDn",
        "outputId": "dab09972-94f1-4d38-b082-9bb96f6dabb8"
      },
      "outputs": [
        {
          "data": {
            "text/plain": [
              "array([[ 952.4, 1645.8, 2217.1],\n",
              "       [ 958.1, 1663.5, 2228.9],\n",
              "       [1023.8, 1860.2, 2360. ],\n",
              "       [ 257.1,  314.1,  629.3],\n",
              "       [ 504.3,  609.9, 1246.5],\n",
              "       [ 567.2,  791.8, 1367.8],\n",
              "       [1703.6, 4197.8, 3638.3],\n",
              "       [ 655. ,  908. , 1585.2],\n",
              "       [ 640.4, 1088.2, 1495.4],\n",
              "       [ 555.1,  905.7, 1303.7]])"
            ]
          },
          "execution_count": 52,
          "metadata": {},
          "output_type": "execute_result"
        }
      ],
      "source": [
        "\n",
        "\n",
        "# Matrix multiplication using np.dot()\n",
        "transformed_data_dot = np.dot(numeric_data, transformation_matrix)\n",
        "transformed_data_dot"
      ]
    },
    {
      "cell_type": "code",
      "execution_count": null,
      "metadata": {
        "id": "Mt03E3Ao_Cij"
      },
      "outputs": [],
      "source": [
        "# Matrix multiplication using @ operator\n",
        "transformed_data_at = numeric_data @ transformation_matrix\n",
        "\n",
        "# Matrix multiplication using np.matmul()\n",
        "transformed_data_matmul = np.matmul(numeric_data, transformation_matrix)"
      ]
    },
    {
      "cell_type": "code",
      "execution_count": null,
      "metadata": {
        "colab": {
          "base_uri": "https://localhost:8080/"
        },
        "id": "s3Uz_8xC_De5",
        "outputId": "25d14b75-4f39-45e0-fa07-dbfac4e857d3"
      },
      "outputs": [
        {
          "name": "stdout",
          "output_type": "stream",
          "text": [
            "Transformed Data (np.dot):\n",
            " [[ 952.4 1645.8 2217.1]\n",
            " [ 958.1 1663.5 2228.9]\n",
            " [1023.8 1860.2 2360. ]\n",
            " [ 257.1  314.1  629.3]\n",
            " [ 504.3  609.9 1246.5]]\n",
            "------------------------------\n",
            "Transformed Data (@ operator):\n",
            " [[ 952.4 1645.8 2217.1]\n",
            " [ 958.1 1663.5 2228.9]\n",
            " [1023.8 1860.2 2360. ]\n",
            " [ 257.1  314.1  629.3]\n",
            " [ 504.3  609.9 1246.5]]\n",
            "------------------------------\n",
            "Transformed Data (np.matmul):\n",
            " [[ 952.4 1645.8 2217.1]\n",
            " [ 958.1 1663.5 2228.9]\n",
            " [1023.8 1860.2 2360. ]\n",
            " [ 257.1  314.1  629.3]\n",
            " [ 504.3  609.9 1246.5]]\n",
            "------------------------------\n"
          ]
        }
      ],
      "source": [
        "print(\"Transformed Data (np.dot):\\n\", transformed_data_dot[:5])\n",
        "print(\"---\"* 10)\n",
        "print(\"Transformed Data (@ operator):\\n\", transformed_data_at[:5])\n",
        "print(\"---\"* 10)\n",
        "print(\"Transformed Data (np.matmul):\\n\", transformed_data_matmul[:5])\n",
        "print(\"---\"* 10)"
      ]
    },
    {
      "cell_type": "code",
      "execution_count": null,
      "metadata": {
        "colab": {
          "base_uri": "https://localhost:8080/"
        },
        "id": "NGZ_wyNB_DhW",
        "outputId": "f9704946-ea8b-4c61-fc4e-8909df665e34"
      },
      "outputs": [
        {
          "data": {
            "text/plain": [
              "array([1, 2, 3, 4])"
            ]
          },
          "execution_count": 55,
          "metadata": {},
          "output_type": "execute_result"
        }
      ],
      "source": [
        "a = np.array([1,2,3,4])\n",
        "a"
      ]
    },
    {
      "cell_type": "code",
      "execution_count": null,
      "metadata": {
        "colab": {
          "base_uri": "https://localhost:8080/",
          "height": 142
        },
        "id": "jhrw60EO_DkR",
        "outputId": "54b10cc6-ca35-406d-9fd2-9353e8c22b58"
      },
      "outputs": [
        {
          "ename": "ValueError",
          "evalue": "matmul: Input operand 1 does not have enough dimensions (has 0, gufunc core with signature (n?,k),(k,m?)->(n?,m?) requires 1)",
          "output_type": "error",
          "traceback": [
            "\u001b[0;31m---------------------------------------------------------------------------\u001b[0m",
            "\u001b[0;31mValueError\u001b[0m                                Traceback (most recent call last)",
            "\u001b[0;32m<ipython-input-56-16572c98568d>\u001b[0m in \u001b[0;36m<cell line: 0>\u001b[0;34m()\u001b[0m\n\u001b[0;32m----> 1\u001b[0;31m \u001b[0ma\u001b[0m\u001b[0;34m@\u001b[0m\u001b[0;36m5\u001b[0m\u001b[0;34m\u001b[0m\u001b[0;34m\u001b[0m\u001b[0m\n\u001b[0m",
            "\u001b[0;31mValueError\u001b[0m: matmul: Input operand 1 does not have enough dimensions (has 0, gufunc core with signature (n?,k),(k,m?)->(n?,m?) requires 1)"
          ]
        }
      ],
      "source": [
        "a@5"
      ]
    },
    {
      "cell_type": "code",
      "execution_count": null,
      "metadata": {
        "colab": {
          "base_uri": "https://localhost:8080/",
          "height": 142
        },
        "id": "8sujGsmK_KrG",
        "outputId": "e7c030ca-3d2e-46ff-ec72-7bf760676429"
      },
      "outputs": [
        {
          "ename": "ValueError",
          "evalue": "matmul: Input operand 1 does not have enough dimensions (has 0, gufunc core with signature (n?,k),(k,m?)->(n?,m?) requires 1)",
          "output_type": "error",
          "traceback": [
            "\u001b[0;31m---------------------------------------------------------------------------\u001b[0m",
            "\u001b[0;31mValueError\u001b[0m                                Traceback (most recent call last)",
            "\u001b[0;32m<ipython-input-57-875bf147741b>\u001b[0m in \u001b[0;36m<cell line: 0>\u001b[0;34m()\u001b[0m\n\u001b[0;32m----> 1\u001b[0;31m \u001b[0mnp\u001b[0m\u001b[0;34m.\u001b[0m\u001b[0mmatmul\u001b[0m\u001b[0;34m(\u001b[0m\u001b[0ma\u001b[0m\u001b[0;34m,\u001b[0m \u001b[0;36m5\u001b[0m\u001b[0;34m)\u001b[0m\u001b[0;34m\u001b[0m\u001b[0;34m\u001b[0m\u001b[0m\n\u001b[0m",
            "\u001b[0;31mValueError\u001b[0m: matmul: Input operand 1 does not have enough dimensions (has 0, gufunc core with signature (n?,k),(k,m?)->(n?,m?) requires 1)"
          ]
        }
      ],
      "source": [
        "np.matmul(a, 5)"
      ]
    },
    {
      "cell_type": "code",
      "execution_count": null,
      "metadata": {
        "colab": {
          "base_uri": "https://localhost:8080/"
        },
        "id": "Tu-FL-wpXsJ_",
        "outputId": "50097ccf-82fc-4f92-9b32-62ca0311c98b"
      },
      "outputs": [
        {
          "data": {
            "text/plain": [
              "array([1, 2, 3, 4])"
            ]
          },
          "execution_count": 58,
          "metadata": {},
          "output_type": "execute_result"
        }
      ],
      "source": [
        "a"
      ]
    },
    {
      "cell_type": "code",
      "execution_count": null,
      "metadata": {
        "colab": {
          "base_uri": "https://localhost:8080/"
        },
        "id": "_jt12KuD_KuD",
        "outputId": "1a65e66d-87d1-47cc-f048-d2fa10b13984"
      },
      "outputs": [
        {
          "data": {
            "text/plain": [
              "array([ 5, 10, 15, 20])"
            ]
          },
          "execution_count": 59,
          "metadata": {},
          "output_type": "execute_result"
        }
      ],
      "source": [
        "np.dot(a, 5)"
      ]
    },
    {
      "cell_type": "code",
      "execution_count": null,
      "metadata": {
        "id": "56VIzQJ8_Kw3"
      },
      "outputs": [],
      "source": []
    },
    {
      "cell_type": "markdown",
      "metadata": {
        "id": "5epIN_0f_Qk9"
      },
      "source": [
        "# Vectorization in NumPy 🚀"
      ]
    },
    {
      "cell_type": "code",
      "execution_count": null,
      "metadata": {
        "id": "GGo85Gcq_Kzd"
      },
      "outputs": [],
      "source": [
        "# Example: Apply a custom function to the 'rate' column\n",
        "def categorize_rating(rating):\n",
        "  if rating >=4.0:\n",
        "    return \"High\"\n",
        "  else:\n",
        "    return \"Low\""
      ]
    },
    {
      "cell_type": "code",
      "execution_count": null,
      "metadata": {
        "colab": {
          "base_uri": "https://localhost:8080/",
          "height": 35
        },
        "id": "6WNfekum_UK6",
        "outputId": "d195ed87-216c-4aeb-99de-b23020408bc5"
      },
      "outputs": [
        {
          "data": {
            "application/vnd.google.colaboratory.intrinsic+json": {
              "type": "string"
            },
            "text/plain": [
              "'High'"
            ]
          },
          "execution_count": 61,
          "metadata": {},
          "output_type": "execute_result"
        }
      ],
      "source": [
        "categorize_rating(4.3)"
      ]
    },
    {
      "cell_type": "code",
      "execution_count": null,
      "metadata": {
        "colab": {
          "base_uri": "https://localhost:8080/",
          "height": 35
        },
        "id": "zXObRlGNZMr_",
        "outputId": "7007b9f1-c734-4b4d-e4ee-b7eddc279eb3"
      },
      "outputs": [
        {
          "data": {
            "application/vnd.google.colaboratory.intrinsic+json": {
              "type": "string"
            },
            "text/plain": [
              "'Low'"
            ]
          },
          "execution_count": 62,
          "metadata": {},
          "output_type": "execute_result"
        }
      ],
      "source": [
        "categorize_rating(3.3)"
      ]
    },
    {
      "cell_type": "code",
      "execution_count": null,
      "metadata": {
        "colab": {
          "base_uri": "https://localhost:8080/",
          "height": 300
        },
        "id": "iTAXUXjJ_UOt",
        "outputId": "a5abf7cd-3ca9-4cd6-ec25-14746ba2df67"
      },
      "outputs": [
        {
          "ename": "ValueError",
          "evalue": "The truth value of an array with more than one element is ambiguous. Use a.any() or a.all()",
          "output_type": "error",
          "traceback": [
            "\u001b[0;31m---------------------------------------------------------------------------\u001b[0m",
            "\u001b[0;31mValueError\u001b[0m                                Traceback (most recent call last)",
            "\u001b[0;32m<ipython-input-63-f03fafe4751b>\u001b[0m in \u001b[0;36m<cell line: 0>\u001b[0;34m()\u001b[0m\n\u001b[1;32m      1\u001b[0m \u001b[0;31m# Attempt to apply the function directly\u001b[0m\u001b[0;34m\u001b[0m\u001b[0;34m\u001b[0m\u001b[0m\n\u001b[0;32m----> 2\u001b[0;31m \u001b[0mcategorized_ratings\u001b[0m \u001b[0;34m=\u001b[0m \u001b[0mcategorize_rating\u001b[0m\u001b[0;34m(\u001b[0m\u001b[0mnumeric_data\u001b[0m\u001b[0;34m[\u001b[0m\u001b[0;34m:\u001b[0m\u001b[0;34m,\u001b[0m \u001b[0;36m0\u001b[0m\u001b[0;34m]\u001b[0m\u001b[0;34m)\u001b[0m  \u001b[0;31m# 'rate' column\u001b[0m\u001b[0;34m\u001b[0m\u001b[0;34m\u001b[0m\u001b[0m\n\u001b[0m\u001b[1;32m      3\u001b[0m \u001b[0mcategorized_ratings\u001b[0m\u001b[0;34m\u001b[0m\u001b[0;34m\u001b[0m\u001b[0m\n",
            "\u001b[0;32m<ipython-input-60-af5de6b7e902>\u001b[0m in \u001b[0;36mcategorize_rating\u001b[0;34m(rating)\u001b[0m\n\u001b[1;32m      1\u001b[0m \u001b[0;31m# Example: Apply a custom function to the 'rate' column\u001b[0m\u001b[0;34m\u001b[0m\u001b[0;34m\u001b[0m\u001b[0m\n\u001b[1;32m      2\u001b[0m \u001b[0;32mdef\u001b[0m \u001b[0mcategorize_rating\u001b[0m\u001b[0;34m(\u001b[0m\u001b[0mrating\u001b[0m\u001b[0;34m)\u001b[0m\u001b[0;34m:\u001b[0m\u001b[0;34m\u001b[0m\u001b[0;34m\u001b[0m\u001b[0m\n\u001b[0;32m----> 3\u001b[0;31m   \u001b[0;32mif\u001b[0m \u001b[0mrating\u001b[0m \u001b[0;34m>=\u001b[0m\u001b[0;36m4.0\u001b[0m\u001b[0;34m:\u001b[0m\u001b[0;34m\u001b[0m\u001b[0;34m\u001b[0m\u001b[0m\n\u001b[0m\u001b[1;32m      4\u001b[0m     \u001b[0;32mreturn\u001b[0m \u001b[0;34m\"High\"\u001b[0m\u001b[0;34m\u001b[0m\u001b[0;34m\u001b[0m\u001b[0m\n\u001b[1;32m      5\u001b[0m   \u001b[0;32melse\u001b[0m\u001b[0;34m:\u001b[0m\u001b[0;34m\u001b[0m\u001b[0;34m\u001b[0m\u001b[0m\n",
            "\u001b[0;31mValueError\u001b[0m: The truth value of an array with more than one element is ambiguous. Use a.any() or a.all()"
          ]
        }
      ],
      "source": [
        "# Attempt to apply the function directly\n",
        "categorized_ratings = categorize_rating(numeric_data[:, 0])  # 'rate' column\n",
        "categorized_ratings"
      ]
    },
    {
      "cell_type": "code",
      "execution_count": null,
      "metadata": {
        "id": "mOiVHFK2_URY"
      },
      "outputs": [],
      "source": []
    },
    {
      "cell_type": "code",
      "execution_count": null,
      "metadata": {
        "colab": {
          "base_uri": "https://localhost:8080/"
        },
        "id": "nQ8kOB5L_UU-",
        "outputId": "277b5bf7-be01-4357-c8ba-3a7c0a26c030"
      },
      "outputs": [
        {
          "data": {
            "text/plain": [
              "<numpy.vectorize at 0x7a1b6d87fdd0>"
            ]
          },
          "execution_count": 64,
          "metadata": {},
          "output_type": "execute_result"
        }
      ],
      "source": [
        "# Vectorize the categorize_rating function\n",
        "vectorized_categorize_rating = np.vectorize(categorize_rating)\n",
        "vectorized_categorize_rating"
      ]
    },
    {
      "cell_type": "code",
      "execution_count": null,
      "metadata": {
        "colab": {
          "base_uri": "https://localhost:8080/"
        },
        "id": "Z1JTkLHEaGju",
        "outputId": "9bed608e-8239-465b-8c0f-103714f70733"
      },
      "outputs": [
        {
          "data": {
            "text/plain": [
              "array([4.1, 3.8, 4. , 2.6, 1.1, 3.5, 4.7, 2.5, 2.8, 3.4])"
            ]
          },
          "execution_count": 65,
          "metadata": {},
          "output_type": "execute_result"
        }
      ],
      "source": [
        "numeric_data[:, 0]"
      ]
    },
    {
      "cell_type": "code",
      "execution_count": null,
      "metadata": {
        "colab": {
          "base_uri": "https://localhost:8080/"
        },
        "id": "Ne2AXc9O_XsQ",
        "outputId": "3b3c39a9-76e1-4bb5-dcf6-31db0321d666"
      },
      "outputs": [
        {
          "data": {
            "text/plain": [
              "array(['High', 'Low', 'High', 'Low', 'Low', 'Low', 'High', 'Low', 'Low',\n",
              "       'Low'], dtype='<U4')"
            ]
          },
          "execution_count": 66,
          "metadata": {},
          "output_type": "execute_result"
        }
      ],
      "source": [
        "categorized_ratings = vectorized_categorize_rating(numeric_data[:, 0])\n",
        "categorized_ratings"
      ]
    },
    {
      "cell_type": "code",
      "execution_count": null,
      "metadata": {
        "id": "IxiHn9Hx_Xu2"
      },
      "outputs": [],
      "source": []
    },
    {
      "cell_type": "markdown",
      "metadata": {
        "id": "ApG1XJhJ_cHz"
      },
      "source": [
        "Imagine we want to apply a 10% discount to restaurants with a rating of 4.0 or higher.\n",
        "We’ll use np.vectorize() to vectorize the logic and apply it to the dataset."
      ]
    },
    {
      "cell_type": "code",
      "execution_count": null,
      "metadata": {
        "colab": {
          "base_uri": "https://localhost:8080/"
        },
        "id": "kCnVIy3UbCJB",
        "outputId": "4d1f4455-ed0c-4712-be69-2c1832195fdc"
      },
      "outputs": [
        {
          "data": {
            "text/plain": [
              "array([[   4.1,  775. ,  800. ],\n",
              "       [   3.8,  787. ,  800. ],\n",
              "       [   4. ,  918. ,  800. ],\n",
              "       [   2.6,   88. ,  300. ],\n",
              "       [   1.1,  166. ,  600. ],\n",
              "       [   3.5,  286. ,  600. ],\n",
              "       [   4.7, 2556. ,  600. ],\n",
              "       [   2.5,  324. ,  700. ],\n",
              "       [   2.8,  504. ,  550. ],\n",
              "       [   3.4,  402. ,  500. ]])"
            ]
          },
          "execution_count": 69,
          "metadata": {},
          "output_type": "execute_result"
        }
      ],
      "source": [
        "numeric_data"
      ]
    },
    {
      "cell_type": "code",
      "execution_count": null,
      "metadata": {
        "id": "2fn5Tawf_Xxc"
      },
      "outputs": [],
      "source": [
        "# Define a function to calculate discounted cost\n",
        "def discount_cost(rate, cost):\n",
        "    \"\"\"Apply a 10% discount if the rating is 4.0 or higher.\"\"\"\n",
        "    if rate >= 4.0:\n",
        "        return cost * 0.9 #100*0.9 - 90\n",
        "    else:\n",
        "        return cost"
      ]
    },
    {
      "cell_type": "code",
      "execution_count": null,
      "metadata": {
        "colab": {
          "base_uri": "https://localhost:8080/"
        },
        "id": "aUarS__e_iNl",
        "outputId": "a363045e-4418-411b-c6c0-b249f98ea581"
      },
      "outputs": [
        {
          "name": "stdout",
          "output_type": "stream",
          "text": [
            "Discounted Costs (sample): [720. 800. 720. 300. 600. 600. 540. 700. 550. 500.]\n"
          ]
        }
      ],
      "source": [
        "# Vectorize the discount_cost function\n",
        "vectorized_discount_cost = np.vectorize(discount_cost)\n",
        "\n",
        "# Apply the vectorized function to 'rate' and 'approx_cost(for two people)'\n",
        "discounted_costs = vectorized_discount_cost(numeric_data[:, 0], numeric_data[:, 2])\n",
        "\n",
        "# Display a sample of the discounted costs\n",
        "print(\"Discounted Costs (sample):\", discounted_costs[:10])"
      ]
    },
    {
      "cell_type": "markdown",
      "metadata": {
        "id": "Bz39iooU_lKN"
      },
      "source": [
        "# Using np.tile()"
      ]
    },
    {
      "cell_type": "code",
      "execution_count": null,
      "metadata": {
        "id": "0i9kNnqR_mHc"
      },
      "outputs": [],
      "source": [
        "# Example: Explicit broadcasting with np.tile\n",
        "array1 = np.array([[1, 2, 3]])\n",
        "array2 = np.array([[10], [20], [30]])"
      ]
    },
    {
      "cell_type": "code",
      "execution_count": null,
      "metadata": {
        "colab": {
          "base_uri": "https://localhost:8080/"
        },
        "id": "pn3DUqCY_qQm",
        "outputId": "1624ad45-084d-4066-ba6d-fd74e1975fae"
      },
      "outputs": [
        {
          "data": {
            "text/plain": [
              "array([[1, 2, 3]])"
            ]
          },
          "execution_count": 71,
          "metadata": {},
          "output_type": "execute_result"
        }
      ],
      "source": [
        "array1"
      ]
    },
    {
      "cell_type": "code",
      "execution_count": null,
      "metadata": {
        "colab": {
          "base_uri": "https://localhost:8080/"
        },
        "id": "aLfhlvQBdYLL",
        "outputId": "3f7effa2-d231-444f-c2e9-b364f66fc68b"
      },
      "outputs": [
        {
          "data": {
            "text/plain": [
              "array([[1, 2, 3],\n",
              "       [1, 2, 3],\n",
              "       [1, 2, 3]])"
            ]
          },
          "execution_count": 74,
          "metadata": {},
          "output_type": "execute_result"
        }
      ],
      "source": [
        "np.tile(array1,(3,1))"
      ]
    },
    {
      "cell_type": "code",
      "execution_count": null,
      "metadata": {
        "colab": {
          "base_uri": "https://localhost:8080/"
        },
        "id": "mR_aXNdrdYOi",
        "outputId": "a22a4415-0186-4876-e480-911b53874562"
      },
      "outputs": [
        {
          "data": {
            "text/plain": [
              "array([[1, 2, 3, 1, 2, 3],\n",
              "       [1, 2, 3, 1, 2, 3],\n",
              "       [1, 2, 3, 1, 2, 3]])"
            ]
          },
          "execution_count": 75,
          "metadata": {},
          "output_type": "execute_result"
        }
      ],
      "source": [
        "np.tile(array1,(3,2))"
      ]
    },
    {
      "cell_type": "code",
      "execution_count": null,
      "metadata": {
        "id": "ctG8PawHdYS9"
      },
      "outputs": [],
      "source": []
    },
    {
      "cell_type": "markdown",
      "metadata": {
        "id": "_Bq3nmix_qvc"
      },
      "source": [
        "# Splitting Arrays in NumPy ✂️"
      ]
    },
    {
      "cell_type": "code",
      "execution_count": null,
      "metadata": {
        "colab": {
          "base_uri": "https://localhost:8080/"
        },
        "id": "VDTXI-nS_sGR",
        "outputId": "71c99a4e-dead-4a83-d561-981be88b4b2a"
      },
      "outputs": [
        {
          "data": {
            "text/plain": [
              "array([1, 2, 3, 4, 5, 6])"
            ]
          },
          "execution_count": 76,
          "metadata": {},
          "output_type": "execute_result"
        }
      ],
      "source": [
        "# 1D array\n",
        "array_1d = np.array([1, 2, 3, 4, 5, 6])\n",
        "array_1d"
      ]
    },
    {
      "cell_type": "code",
      "execution_count": null,
      "metadata": {
        "colab": {
          "base_uri": "https://localhost:8080/"
        },
        "id": "1G7SkuKCeLSU",
        "outputId": "f079117d-7455-40ae-a629-f471e784216a"
      },
      "outputs": [
        {
          "data": {
            "text/plain": [
              "[array([1, 2]), array([3, 4]), array([5, 6])]"
            ]
          },
          "execution_count": 77,
          "metadata": {},
          "output_type": "execute_result"
        }
      ],
      "source": [
        "# Split into 3 sections\n",
        "np.split(array_1d, 3)"
      ]
    },
    {
      "cell_type": "code",
      "execution_count": null,
      "metadata": {
        "colab": {
          "base_uri": "https://localhost:8080/",
          "height": 282
        },
        "id": "pis1KSc7eVJe",
        "outputId": "f6f18917-708f-4c32-9cb5-50f973a48f1d"
      },
      "outputs": [
        {
          "ename": "ValueError",
          "evalue": "array split does not result in an equal division",
          "output_type": "error",
          "traceback": [
            "\u001b[0;31m---------------------------------------------------------------------------\u001b[0m",
            "\u001b[0;31mValueError\u001b[0m                                Traceback (most recent call last)",
            "\u001b[0;32m<ipython-input-78-a80a71805c8b>\u001b[0m in \u001b[0;36m<cell line: 0>\u001b[0;34m()\u001b[0m\n\u001b[1;32m      1\u001b[0m \u001b[0;31m# Split into 3 sections\u001b[0m\u001b[0;34m\u001b[0m\u001b[0;34m\u001b[0m\u001b[0m\n\u001b[0;32m----> 2\u001b[0;31m \u001b[0mnp\u001b[0m\u001b[0;34m.\u001b[0m\u001b[0msplit\u001b[0m\u001b[0;34m(\u001b[0m\u001b[0marray_1d\u001b[0m\u001b[0;34m,\u001b[0m \u001b[0;36m4\u001b[0m\u001b[0;34m)\u001b[0m\u001b[0;34m\u001b[0m\u001b[0;34m\u001b[0m\u001b[0m\n\u001b[0m",
            "\u001b[0;32m/usr/local/lib/python3.11/dist-packages/numpy/lib/_shape_base_impl.py\u001b[0m in \u001b[0;36msplit\u001b[0;34m(ary, indices_or_sections, axis)\u001b[0m\n\u001b[1;32m    872\u001b[0m         \u001b[0mN\u001b[0m \u001b[0;34m=\u001b[0m \u001b[0mary\u001b[0m\u001b[0;34m.\u001b[0m\u001b[0mshape\u001b[0m\u001b[0;34m[\u001b[0m\u001b[0maxis\u001b[0m\u001b[0;34m]\u001b[0m\u001b[0;34m\u001b[0m\u001b[0;34m\u001b[0m\u001b[0m\n\u001b[1;32m    873\u001b[0m         \u001b[0;32mif\u001b[0m \u001b[0mN\u001b[0m \u001b[0;34m%\u001b[0m \u001b[0msections\u001b[0m\u001b[0;34m:\u001b[0m\u001b[0;34m\u001b[0m\u001b[0;34m\u001b[0m\u001b[0m\n\u001b[0;32m--> 874\u001b[0;31m             raise ValueError(\n\u001b[0m\u001b[1;32m    875\u001b[0m                 'array split does not result in an equal division') from None\n\u001b[1;32m    876\u001b[0m     \u001b[0;32mreturn\u001b[0m \u001b[0marray_split\u001b[0m\u001b[0;34m(\u001b[0m\u001b[0mary\u001b[0m\u001b[0;34m,\u001b[0m \u001b[0mindices_or_sections\u001b[0m\u001b[0;34m,\u001b[0m \u001b[0maxis\u001b[0m\u001b[0;34m)\u001b[0m\u001b[0;34m\u001b[0m\u001b[0;34m\u001b[0m\u001b[0m\n",
            "\u001b[0;31mValueError\u001b[0m: array split does not result in an equal division"
          ]
        }
      ],
      "source": [
        "# Split into 3 sections\n",
        "np.split(array_1d, 4)"
      ]
    },
    {
      "cell_type": "code",
      "execution_count": null,
      "metadata": {
        "colab": {
          "base_uri": "https://localhost:8080/"
        },
        "id": "1RMpITK2eri3",
        "outputId": "9b4f2890-848e-4f2e-9835-90193f044eba"
      },
      "outputs": [
        {
          "data": {
            "text/plain": [
              "[array([[1, 2],\n",
              "        [5, 6]]),\n",
              " array([[3, 4],\n",
              "        [7, 8]])]"
            ]
          },
          "execution_count": 80,
          "metadata": {},
          "output_type": "execute_result"
        }
      ],
      "source": [
        "# 2D array\n",
        "array_2d = np.array([[1, 2, 3, 4],\n",
        "                     [5, 6, 7, 8]])\n",
        "\n",
        "# Split into 2 along axis=1 (columns)\n",
        "split_2d = np.split(array_2d, 2, axis=1)\n",
        "\n",
        "split_2d"
      ]
    },
    {
      "cell_type": "code",
      "execution_count": null,
      "metadata": {
        "colab": {
          "base_uri": "https://localhost:8080/"
        },
        "id": "8p-cXhB0ernd",
        "outputId": "dfc04f84-1efd-4784-9bf7-f3105ab57aad"
      },
      "outputs": [
        {
          "data": {
            "text/plain": [
              "[array([[1, 2],\n",
              "        [5, 6]]),\n",
              " array([[3, 4],\n",
              "        [7, 8]])]"
            ]
          },
          "execution_count": 81,
          "metadata": {},
          "output_type": "execute_result"
        }
      ],
      "source": [
        "np.hsplit(array_2d, 2)"
      ]
    },
    {
      "cell_type": "code",
      "execution_count": null,
      "metadata": {
        "colab": {
          "base_uri": "https://localhost:8080/"
        },
        "id": "SoxGo3wxfblO",
        "outputId": "25509f90-5304-481b-9e94-0da2128c67a3"
      },
      "outputs": [
        {
          "data": {
            "text/plain": [
              "array([[1, 2, 3, 4],\n",
              "       [5, 6, 7, 8]])"
            ]
          },
          "execution_count": 83,
          "metadata": {},
          "output_type": "execute_result"
        }
      ],
      "source": [
        "array_2d"
      ]
    },
    {
      "cell_type": "code",
      "execution_count": null,
      "metadata": {
        "colab": {
          "base_uri": "https://localhost:8080/"
        },
        "id": "CG3E8DwOerqq",
        "outputId": "34f04491-bbda-4bd1-dff5-3271fdfd8a8e"
      },
      "outputs": [
        {
          "data": {
            "text/plain": [
              "[array([[1, 2, 3, 4]]), array([[5, 6, 7, 8]])]"
            ]
          },
          "execution_count": 82,
          "metadata": {},
          "output_type": "execute_result"
        }
      ],
      "source": [
        " np.vsplit(array_2d, 2)"
      ]
    },
    {
      "cell_type": "code",
      "execution_count": null,
      "metadata": {
        "colab": {
          "base_uri": "https://localhost:8080/"
        },
        "id": "oen2Gs0ZfjQk",
        "outputId": "c23802a3-d5cc-4c6f-d63e-6384437a958f"
      },
      "outputs": [
        {
          "data": {
            "text/plain": [
              "[array([[1, 2, 3],\n",
              "        [5, 6, 7]]),\n",
              " array([[4],\n",
              "        [8]])]"
            ]
          },
          "execution_count": 86,
          "metadata": {},
          "output_type": "execute_result"
        }
      ],
      "source": [
        "# 2D array\n",
        "array_2d = np.array([[1, 2, 3, 4],\n",
        "                     [5, 6, 7, 8]])\n",
        "\n",
        "# Split into 2 along axis=1 (columns)\n",
        "split_2d = np.split(array_2d, [1,3], axis=1)\n",
        "\n",
        "split_2d"
      ]
    },
    {
      "cell_type": "code",
      "execution_count": null,
      "metadata": {
        "colab": {
          "base_uri": "https://localhost:8080/"
        },
        "id": "jAX1KHOiftA-",
        "outputId": "1fc1bcca-d4b1-4a19-e3e9-1174bedcf23d"
      },
      "outputs": [
        {
          "data": {
            "text/plain": [
              "array([[1, 2, 3],\n",
              "       [4, 5, 6]])"
            ]
          },
          "execution_count": 87,
          "metadata": {},
          "output_type": "execute_result"
        }
      ],
      "source": [
        "# Define arrays\n",
        "array1 = np.array([1, 2, 3])\n",
        "array2 = np.array([4, 5, 6])\n",
        "# Stack vertically\n",
        "vstack_result = np.vstack([array1, array2])\n",
        "vstack_result"
      ]
    },
    {
      "cell_type": "code",
      "execution_count": null,
      "metadata": {
        "colab": {
          "base_uri": "https://localhost:8080/"
        },
        "id": "KOKpyzwlgkKr",
        "outputId": "a4c9b381-066d-4782-d29b-40a9ac6ec41d"
      },
      "outputs": [
        {
          "data": {
            "text/plain": [
              "array([1, 2, 3, 4, 5, 6])"
            ]
          },
          "execution_count": 88,
          "metadata": {},
          "output_type": "execute_result"
        }
      ],
      "source": [
        "# Define arrays\n",
        "array1 = np.array([1, 2, 3])\n",
        "array2 = np.array([4, 5, 6])\n",
        "# Stack vertically\n",
        "vstack_result = np.hstack([array1, array2])\n",
        "vstack_result"
      ]
    },
    {
      "cell_type": "code",
      "execution_count": null,
      "metadata": {
        "id": "0b0pl4SXglXN"
      },
      "outputs": [],
      "source": []
    }
  ],
  "metadata": {
    "colab": {
      "provenance": []
    },
    "kernelspec": {
      "display_name": "Python 3",
      "name": "python3"
    },
    "language_info": {
      "name": "python"
    }
  },
  "nbformat": 4,
  "nbformat_minor": 0
}
